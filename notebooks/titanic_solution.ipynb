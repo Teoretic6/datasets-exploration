{
 "cells": [
  {
   "cell_type": "code",
   "execution_count": null,
   "metadata": {
    "collapsed": true
   },
   "outputs": [],
   "source": [
    "import pandas as pd\n",
    "import numpy as np\n",
    "from collections import Counter\n",
    "import matplotlib.pyplot as plt\n",
    "from sklearn.tree import DecisionTreeClassifier\n",
    "from sklearn.metrics import accuracy_score\n",
    "from sklearn.feature_selection import SelectKBest\n",
    "from sklearn.model_selection import train_test_split\n",
    "from sklearn.neighbors import KNeighborsClassifier\n",
    "from sklearn.linear_model import LogisticRegression\n",
    "from sklearn.metrics import classification_report, confusion_matrix\n",
    "from sklearn.model_selection import cross_val_score, cross_val_predict"
   ]
  },
  {
   "cell_type": "code",
   "execution_count": null,
   "metadata": {},
   "outputs": [],
   "source": [
    "df = pd.read_csv(\"../datasets/titanic_train.csv\")\n",
    "df.head(10)"
   ]
  },
  {
   "cell_type": "markdown",
   "metadata": {},
   "source": [
    "## 1.1"
   ]
  },
  {
   "cell_type": "code",
   "execution_count": null,
   "metadata": {},
   "outputs": [],
   "source": [
    "df['Sex'].value_counts()"
   ]
  },
  {
   "cell_type": "markdown",
   "metadata": {},
   "source": [
    "### Ответ\n",
    "Мужчины, женщины<br>\n",
    "<u>577</u>, <u>314</u> "
   ]
  },
  {
   "cell_type": "markdown",
   "metadata": {},
   "source": [
    "## 1.2"
   ]
  },
  {
   "cell_type": "code",
   "execution_count": null,
   "metadata": {},
   "outputs": [],
   "source": [
    "survived_series = df['Survived'].value_counts()\n",
    "survived_series"
   ]
  },
  {
   "cell_type": "markdown",
   "metadata": {},
   "source": [
    "Из описание\n",
    "0 = No, 1 = Yes"
   ]
  },
  {
   "cell_type": "code",
   "execution_count": null,
   "metadata": {},
   "outputs": [],
   "source": [
    "survival_rate = survived_series[1] / (survived_series[0] + survived_series[1])\n",
    "survival_rate"
   ]
  },
  {
   "cell_type": "code",
   "execution_count": null,
   "metadata": {},
   "outputs": [],
   "source": [
    "survival_percent = round(survival_rate*100, 2)\n",
    "survival_percent"
   ]
  },
  {
   "cell_type": "markdown",
   "metadata": {},
   "source": [
    "### Ответ\n",
    "38,38% выживших"
   ]
  },
  {
   "cell_type": "markdown",
   "metadata": {},
   "source": [
    "## 1.3"
   ]
  },
  {
   "cell_type": "code",
   "execution_count": null,
   "metadata": {},
   "outputs": [],
   "source": [
    "pclass_series = df['Pclass'].value_counts()\n",
    "pclass_series"
   ]
  },
  {
   "cell_type": "code",
   "execution_count": null,
   "metadata": {},
   "outputs": [],
   "source": [
    "first_class_rate = pclass_series[1] / (pclass_series[1] + pclass_series[2] + pclass_series[3])\n",
    "first_class_rate"
   ]
  },
  {
   "cell_type": "code",
   "execution_count": null,
   "metadata": {},
   "outputs": [],
   "source": [
    "first_class_percent = round(first_class_rate*100, 2)\n",
    "first_class_percent"
   ]
  },
  {
   "cell_type": "markdown",
   "metadata": {},
   "source": [
    "### Ответ\n",
    "24,24% пассажиров первого класса"
   ]
  },
  {
   "cell_type": "markdown",
   "metadata": {},
   "source": [
    "## 1.4\n",
    "Какого возраста были пассажиры? Посчитайте среднее и медиану возраста пассажиров. В качестве ответа приведите два числа через пробел."
   ]
  },
  {
   "cell_type": "code",
   "execution_count": null,
   "metadata": {},
   "outputs": [],
   "source": [
    "age_series = df[\"Age\"]\n",
    "round(age_series.mean(), 2)"
   ]
  },
  {
   "cell_type": "code",
   "execution_count": null,
   "metadata": {},
   "outputs": [],
   "source": [
    "age_series.median()"
   ]
  },
  {
   "cell_type": "markdown",
   "metadata": {},
   "source": [
    "### Ответ\n",
    "29,7 лет - средний возраст пассажиров<br>\n",
    "28 лет - медиана возрастов пассажиров"
   ]
  },
  {
   "cell_type": "markdown",
   "metadata": {},
   "source": [
    "## 1.5\n",
    "Коррелируют ли число братьев/сестер/супругов с числом родителей/детей? Посчитайте корреляцию Пирсона между признаками SibSp и Parch."
   ]
  },
  {
   "cell_type": "code",
   "execution_count": null,
   "metadata": {},
   "outputs": [],
   "source": [
    "correlation_df = df[['SibSp', 'Parch']]\n",
    "correlation_df.head(10)"
   ]
  },
  {
   "cell_type": "markdown",
   "metadata": {},
   "source": [
    "<b>Link to the doc on corr() method in pandas:</b><br>\n",
    "https://pandas.pydata.org/pandas-docs/stable/generated/pandas.DataFrame.corr.html<br>\n",
    "\n",
    "<b>Link to a theory description:</b><br>\n",
    "https://en.wikipedia.org/wiki/Pearson_correlation_coefficient\n",
    "\n",
    "<b>Some description about which correlation value is significant:</b><br>\n",
    "http://support.minitab.com/en-us/minitab-express/1/help-and-how-to/modeling-statistics/regression/how-to/correlation/interpret-the-results/"
   ]
  },
  {
   "cell_type": "code",
   "execution_count": null,
   "metadata": {},
   "outputs": [],
   "source": [
    "correlation_df.corr(method='pearson')"
   ]
  },
  {
   "cell_type": "markdown",
   "metadata": {},
   "source": [
    "### Ответ\n",
    "Значение корреляции - 0.414838<br>\n",
    "Это является индикатором средней позитивной линейной зависимости между переменными"
   ]
  },
  {
   "cell_type": "markdown",
   "metadata": {},
   "source": [
    "### 1.6. \n",
    "Какое самое популярное женское имя на корабле? Извлеките из полного имени пассажира (колонка Name) его личное имя (First Name)."
   ]
  },
  {
   "cell_type": "code",
   "execution_count": null,
   "metadata": {},
   "outputs": [],
   "source": [
    "women_df = df[df['Sex'] == \"female\"]\n",
    "women_df.head()"
   ]
  },
  {
   "cell_type": "markdown",
   "metadata": {},
   "source": [
    "#### Правило\n",
    "Если Miss, то брать то, что после Miss<br>\n",
    "Если Mrs., то брать первое, что в скобках<br>\n",
    "Если Mme., то брать то, что после Mme"
   ]
  },
  {
   "cell_type": "code",
   "execution_count": null,
   "metadata": {},
   "outputs": [],
   "source": [
    "def get_first_name(name_str):\n",
    "    name_list = name_str.split(\" \")\n",
    "    \n",
    "    if \"Mme.\" in name_list:\n",
    "        # If there's a \"Mme.\" in the name\n",
    "#         print(\"Mme: \" + str(name_list))\n",
    "        return name_list[name_list.index(\"Mme.\") + 1]\n",
    "    \n",
    "    if \"Mrs.\" in name_list:\n",
    "        # If there's a \"Mrs.\" in the name\n",
    "#         print(\"Mrs: \" + str(name_str))\n",
    "        if name_str.find(\"(\") != -1:\n",
    "            name = name_str[name_str.index(\"(\")+1:]\n",
    "            if name.find(\" \") != -1:\n",
    "                name = name[:name.index(\" \")]\n",
    "            else:\n",
    "                name = name[:name.index(\")\")]\n",
    "            return name\n",
    "        else:\n",
    "            return name_list[name_list.index(\"Mrs.\") + 1]\n",
    "    \n",
    "    if \"Miss.\" in name_list:\n",
    "        # If there's a \"Miss.\" in the name\n",
    "#         print(\"Miss: \" + str(name_list))\n",
    "        return name_list[name_list.index(\"Miss.\") + 1]\n",
    "\n",
    "names_list = women_df[\"Name\"].apply(get_first_name).tolist()\n",
    "names_list[:10] # show 10 elements"
   ]
  },
  {
   "cell_type": "code",
   "execution_count": null,
   "metadata": {},
   "outputs": [],
   "source": [
    "Counter(names_list).most_common(5)"
   ]
  },
  {
   "cell_type": "code",
   "execution_count": null,
   "metadata": {},
   "outputs": [],
   "source": [
    "top_ten = Counter(names_list).most_common(5)\n",
    "top_ten_names = [i[0] for i in top_ten]\n",
    "top_ten_values = [i[1] for i in top_ten]\n",
    "\n",
    "plt.xticks(range(5), top_ten_names, rotation='vertical')\n",
    "plt.scatter(range(5), top_ten_values)\n",
    "for i in range(5):\n",
    "    plt.annotate(top_ten_values[i], xy=(i,top_ten_values[i]))\n",
    "plt.show()"
   ]
  },
  {
   "cell_type": "markdown",
   "metadata": {},
   "source": [
    "### Ответ\n",
    "Anna - если не учитывать все вариации имени Mary"
   ]
  },
  {
   "cell_type": "markdown",
   "metadata": {},
   "source": [
    "### 2. \n",
    "Оставьте в выборке четыре признака: класс пассажира (Pclass), цену билета (Fare), возраст пассажира (Age) и его пол (Sex)."
   ]
  },
  {
   "cell_type": "code",
   "execution_count": null,
   "metadata": {},
   "outputs": [],
   "source": [
    "df.dropna(inplace=True, subset=['Age'])\n",
    "\n",
    "df2 = df[['Pclass', 'Fare', 'Age', 'Sex']].copy()\n",
    "df2.head()"
   ]
  },
  {
   "cell_type": "markdown",
   "metadata": {},
   "source": [
    "### 2.1\n",
    "Обратите внимание, что признак Sex имеет строковые значения"
   ]
  },
  {
   "cell_type": "code",
   "execution_count": null,
   "metadata": {},
   "outputs": [],
   "source": [
    "df2['Sex'] = df2['Sex'].replace('male', 1)\n",
    "df2['Sex'] = df2['Sex'].replace('female', 0)\n",
    "df2.head(10)"
   ]
  },
  {
   "cell_type": "markdown",
   "metadata": {},
   "source": [
    "### 2.2.\n",
    "Выделите целевую переменную — она записана в столбце Survived."
   ]
  },
  {
   "cell_type": "code",
   "execution_count": null,
   "metadata": {},
   "outputs": [],
   "source": [
    "target_variable = df['Survived']\n",
    "target_variable.head(10)"
   ]
  },
  {
   "cell_type": "markdown",
   "metadata": {},
   "source": [
    "### 2.3\n",
    "В данных есть пропущенные значения — например, для некоторых пассажиров неизвестен их возраст. Такие записи при чтении их в pandas принимают значение nan. Найдите все объекты, у которых есть пропущенные признаки, и удалите их из выборки."
   ]
  },
  {
   "cell_type": "code",
   "execution_count": null,
   "metadata": {},
   "outputs": [],
   "source": [
    "df2.dropna(inplace=True)\n",
    "df2.head(10)"
   ]
  },
  {
   "cell_type": "markdown",
   "metadata": {},
   "source": [
    "### 2.4. \n",
    "Обучите решающее дерево с параметром random_state=241 и остальными параметрами по умолчанию (речь идет о параметрах конструктора DecisionTreeСlassifier)."
   ]
  },
  {
   "cell_type": "markdown",
   "metadata": {},
   "source": [
    "<b>Link to \"Understanding the decision tree structure\":</b><br>\n",
    "http://scikit-learn.org/stable/auto_examples/tree/plot_unveil_tree_structure.html<br>\n",
    "<b>\"Desition tree\" in Scikit Learn docs</b><br>\n",
    "http://scikit-learn.org/stable/modules/tree.html"
   ]
  },
  {
   "cell_type": "markdown",
   "metadata": {},
   "source": [
    "<b>В данном месте обучаем просто на всех данных, без разделения на тренировочную и тестовую выборку.<br>\n",
    "Это будет сделано в пункте 3.</b>"
   ]
  },
  {
   "cell_type": "code",
   "execution_count": null,
   "metadata": {},
   "outputs": [],
   "source": [
    "estimator = DecisionTreeClassifier(random_state=241)\n",
    "estimator.fit(df2, target_variable)"
   ]
  },
  {
   "cell_type": "code",
   "execution_count": null,
   "metadata": {},
   "outputs": [],
   "source": [
    "accuracy_score(target_variable, estimator.predict(df2))"
   ]
  },
  {
   "cell_type": "markdown",
   "metadata": {},
   "source": [
    "98% - высокий результат, но так как мы не делили выборку на тренировочную и тестовую, то, конечно, становится понятно, почему мы получили такой высокий результат."
   ]
  },
  {
   "cell_type": "markdown",
   "metadata": {},
   "source": [
    "### 2.5. \n",
    "Вычислите важности признаков и найдите два признака с наибольшей важностью."
   ]
  },
  {
   "cell_type": "markdown",
   "metadata": {},
   "source": [
    "Это задача называется <b>feature selection</b>.<br>\n",
    "Документация на функцию SelectKBest:\n",
    "http://scikit-learn.org/stable/modules/feature_selection.html#univariate-feature-selection"
   ]
  },
  {
   "cell_type": "code",
   "execution_count": null,
   "metadata": {},
   "outputs": [],
   "source": [
    "print(\"Initial df2 shape: \" + str(df2.shape))\n",
    "print(\"df2: \" + str(df2.head(10)))\n",
    "SelectKBest(k=2).fit(df2, target_variable)\n",
    "idxs_selected = selector.get_support(indices=True)\n",
    "print(\"New df2 shape: \" + str(df2_new.shape))\n",
    "df2_new"
   ]
  },
  {
   "cell_type": "code",
   "execution_count": null,
   "metadata": {},
   "outputs": [],
   "source": [
    "print(\"Initial df2 shape: \" + str(df2.shape))\n",
    "print(\"df2: \" + str(df2.head(10)))\n",
    "\n",
    "# Create and fit selector\n",
    "selector = SelectKBest(k=2)\n",
    "selector.fit(df2, target_variable)\n",
    "\n",
    "# Get ids of columns to keep\n",
    "ids_selected = selector.get_support(indices=True)\n",
    "\n",
    "# Create new dataframe with only desired columns, or overwrite existing\n",
    "df2_reduced = df2.iloc[:,ids_selected]\n",
    "\n",
    "print(\"New df2 shape: \" + str(df2_reduced.shape))\n",
    "df2_reduced.head(10)"
   ]
  },
  {
   "cell_type": "code",
   "execution_count": null,
   "metadata": {},
   "outputs": [],
   "source": [
    "df2_reduced.columns"
   ]
  },
  {
   "cell_type": "markdown",
   "metadata": {},
   "source": [
    "### Ответ\n",
    "<b>'Pclass' и 'Sex'</b> - два самых важных признака с помощью метода SelectKBest и одномерного статистического теста k-classif"
   ]
  },
  {
   "cell_type": "markdown",
   "metadata": {},
   "source": [
    "### 3"
   ]
  },
  {
   "cell_type": "markdown",
   "metadata": {},
   "source": [
    "### 3.1\n",
    "Учитывая результаты решения предыдущих примеров, построить модель, прогнозирующую, спасется человек на Титанике или нет."
   ]
  },
  {
   "cell_type": "markdown",
   "metadata": {},
   "source": [
    "Сначала разделим наш сокращенный датафрейм (df2_reduced) на тестовую и тренировочную выборку в размере 70-30% (числа из головы) и поставим random_state = 241 для воспроизводимости результатов"
   ]
  },
  {
   "cell_type": "code",
   "execution_count": null,
   "metadata": {
    "collapsed": true
   },
   "outputs": [],
   "source": [
    "my_rand_state = 241"
   ]
  },
  {
   "cell_type": "code",
   "execution_count": null,
   "metadata": {
    "collapsed": true
   },
   "outputs": [],
   "source": [
    "X_train, X_test, y_train, y_test = train_test_split(df2_reduced, target_variable, \n",
    "                                                    test_size=0.3, random_state=my_rand_state)"
   ]
  },
  {
   "cell_type": "markdown",
   "metadata": {},
   "source": [
    "Посмотрим, как DecisionTreeClassifier с random_state=241 справится с данными с уменьшенной размерностью и с использованием тестовых данных, которые не участвовали в обучении "
   ]
  },
  {
   "cell_type": "code",
   "execution_count": null,
   "metadata": {},
   "outputs": [],
   "source": [
    "estimator = DecisionTreeClassifier(random_state=my_rand_state)\n",
    "estimator.fit(X_train, y_train)"
   ]
  },
  {
   "cell_type": "code",
   "execution_count": null,
   "metadata": {},
   "outputs": [],
   "source": [
    "accuracy_score(y_test, estimator.predict(X_test))"
   ]
  },
  {
   "cell_type": "markdown",
   "metadata": {},
   "source": [
    "77,2% - не очень хороший результат"
   ]
  },
  {
   "cell_type": "markdown",
   "metadata": {},
   "source": [
    "### 3.2\n",
    "Модель построить для двух алгоритмов, «метода ближайших соседей» и «логистической регрессии»"
   ]
  },
  {
   "cell_type": "markdown",
   "metadata": {},
   "source": [
    "Scikit-learn KNearestNeighbors:<br>\n",
    "http://scikit-learn.org/stable/modules/generated/sklearn.neighbors.KNeighborsClassifier.html<br>\n",
    "and KNearestNeighbors in details:<br>\n",
    "http://scikit-learn.org/stable/modules/neighbors.html<br>\n",
    "Scikit-learn LogisticRegression:<br>\n",
    "http://scikit-learn.org/stable/modules/generated/sklearn.linear_model.LogisticRegression.html"
   ]
  },
  {
   "cell_type": "markdown",
   "metadata": {},
   "source": [
    "<b>KNearestNeighbours</b>\n",
    "с числом соседей = 5"
   ]
  },
  {
   "cell_type": "code",
   "execution_count": null,
   "metadata": {},
   "outputs": [],
   "source": [
    "# Educate\n",
    "neigh = KNeighborsClassifier(n_neighbors=5)\n",
    "neigh.fit(X_train, y_train)\n",
    "\n",
    "# Predict\n",
    "y_pred = neigh.predict(X_test)\n",
    "\n",
    "# Print report\n",
    "print(classification_report(y_test, y_pred))\n",
    "print(confusion_matrix(y_test, y_pred))\n",
    "accuracy_score(y_test, y_pred)"
   ]
  },
  {
   "cell_type": "markdown",
   "metadata": {},
   "source": [
    "<b>LogisticRegression</b> с дефолтными параметрами (L2 как penalty, liblinear как solver, так как его советуют для маленьких датасетов)"
   ]
  },
  {
   "cell_type": "code",
   "execution_count": null,
   "metadata": {},
   "outputs": [],
   "source": [
    "# Educate\n",
    "regr = LogisticRegression()\n",
    "regr.fit(X_train, y_train)\n",
    "\n",
    "# Predict\n",
    "y_pred = regr.predict(X_test)\n",
    "\n",
    "# Print report\n",
    "print(classification_report(y_test, y_pred))\n",
    "print(confusion_matrix(y_test, y_pred))\n",
    "accuracy_score(y_test, y_pred)"
   ]
  },
  {
   "cell_type": "markdown",
   "metadata": {},
   "source": [
    "### 3.3\n",
    "Проверку модели произвести с помощью скользящего контроля.<br>\n"
   ]
  },
  {
   "cell_type": "code",
   "execution_count": null,
   "metadata": {},
   "outputs": [],
   "source": [
    "scores_neigh = cross_val_score(neigh, df2_reduced, target_variable, cv=5)\n",
    "print(\"Cross-validated scores for each step: \\n{}\".format(scores_neigh))"
   ]
  },
  {
   "cell_type": "code",
   "execution_count": null,
   "metadata": {},
   "outputs": [],
   "source": [
    "scores_regr = cross_val_score(regr, df2_reduced, target_variable, cv=5)\n",
    "print(\"Cross-validated scores for each step: \\n{}\".format(scores_regr))"
   ]
  },
  {
   "cell_type": "markdown",
   "metadata": {},
   "source": [
    "### 3.4\n",
    "Результат – сравнить точность работы модели по двум алгоритмам, в процентах с округлением до сотых."
   ]
  },
  {
   "cell_type": "markdown",
   "metadata": {},
   "source": [
    "<b>Точность метода ближайших соседей</b>"
   ]
  },
  {
   "cell_type": "code",
   "execution_count": null,
   "metadata": {},
   "outputs": [],
   "source": [
    "print(\"Accuracy: %0.2f (+/- %0.2f)\" % (scores_neigh.mean(), scores_neigh.std() * 2))"
   ]
  },
  {
   "cell_type": "markdown",
   "metadata": {},
   "source": [
    "<b>Точность метода логистической регрессии</b>"
   ]
  },
  {
   "cell_type": "code",
   "execution_count": null,
   "metadata": {},
   "outputs": [],
   "source": [
    "print(\"Accuracy: %0.2f (+/- %0.2f)\" % (scores_regr.mean(), scores_regr.std() * 2))"
   ]
  },
  {
   "cell_type": "markdown",
   "metadata": {},
   "source": [
    "### Ответ\n",
    "<b>Метод ближайших соседей с числом соседей = 5</b> обладает на 2% лучшей точностью при кросс-валидации с 5 делениями датасета"
   ]
  }
 ],
 "metadata": {
  "kernelspec": {
   "display_name": "Python 3",
   "language": "python",
   "name": "python3"
  },
  "language_info": {
   "codemirror_mode": {
    "name": "ipython",
    "version": 3
   },
   "file_extension": ".py",
   "mimetype": "text/x-python",
   "name": "python",
   "nbconvert_exporter": "python",
   "pygments_lexer": "ipython3",
   "version": "3.6.1"
  }
 },
 "nbformat": 4,
 "nbformat_minor": 2
}
